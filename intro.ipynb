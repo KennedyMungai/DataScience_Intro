{
 "cells": [
  {
   "cell_type": "code",
   "execution_count": 3,
   "metadata": {},
   "outputs": [],
   "source": [
    "import numpy as np"
   ]
  },
  {
   "cell_type": "code",
   "execution_count": 4,
   "metadata": {},
   "outputs": [
    {
     "name": "stdout",
     "output_type": "stream",
     "text": [
      "[9.16666667 6.         6.42857143]\n"
     ]
    }
   ],
   "source": [
    "distance = [55,60,45]\n",
    "speed=[6, 10, 7]\n",
    "dist=np.array(distance)\n",
    "spd=np.array(speed)\n",
    "time = dist/spd\n",
    "print(time)"
   ]
  },
  {
   "cell_type": "code",
   "execution_count": 7,
   "metadata": {},
   "outputs": [
    {
     "name": "stdout",
     "output_type": "stream",
     "text": [
      "data type of array:  float64\n",
      "number of dimensions:  1\n",
      "size of each dimension:  (3,)\n",
      "total size of the array:  3\n"
     ]
    }
   ],
   "source": [
    "# data type\n",
    "print(\"data type of array: \", time.dtype)\n",
    "\n",
    "# number of dimensions\n",
    "print(\"number of dimensions: \", time.ndim)\n",
    "\n",
    "#Size of each dimension\n",
    "print(\"size of each dimension: \", time.shape)\n",
    "\n",
    "#Total size of the array\n",
    "print(\"total size of the array: \", time.size)"
   ]
  },
  {
   "cell_type": "code",
   "execution_count": 10,
   "metadata": {},
   "outputs": [
    {
     "name": "stdout",
     "output_type": "stream",
     "text": [
      "x1 ndim 1\n",
      "x1 shape (6,)\n",
      "x1 size 6\n",
      "x2 ndim 2\n",
      "x2 shape (3, 4)\n",
      "x2 size 12\n",
      "x3 ndim 3\n",
      "x3 shape (3, 4, 5)\n",
      "x3 size 60\n"
     ]
    }
   ],
   "source": [
    "# Creating arrays with random values\n",
    "np.random.seed(0) # set seed for reproducibility\n",
    "\n",
    "x1 = np.random.randint(10, size=6) #A one dimensional array\n",
    "x2 = np.random.randint(10, size=(3, 4)) #A Tow dimensional array\n",
    "x3 = np.random.randint(10, size=(3,4,5)) #A three dimensional array\n",
    "\n",
    "print('x1 ndim', x1.ndim)\n",
    "print('x1 shape', x1.shape)\n",
    "print('x1 size', x1.size)\n",
    "\n",
    "print('x2 ndim', x2.ndim)\n",
    "print('x2 shape', x2.shape)\n",
    "print('x2 size', x2.size)\n",
    "\n",
    "print('x3 ndim', x3.ndim)\n",
    "print('x3 shape', x3.shape)\n",
    "print('x3 size', x3.size)"
   ]
  },
  {
   "cell_type": "code",
   "execution_count": 12,
   "metadata": {},
   "outputs": [
    {
     "name": "stdout",
     "output_type": "stream",
     "text": [
      "Sequential array with steps of 5: \n",
      " [ 0  5 10 15]\n"
     ]
    }
   ],
   "source": [
    "f = np.arange(0, 20, 5)\n",
    "print(\"Sequential array with steps of 5: \\n\", f)"
   ]
  },
  {
   "cell_type": "code",
   "execution_count": 14,
   "metadata": {},
   "outputs": [
    {
     "name": "stdout",
     "output_type": "stream",
     "text": [
      "1-d array: [5 0 3 3 7 9]\n",
      "Second element of the first array: 0\n",
      "last element of the first array: 9\n",
      "first element of the first array: 5\n"
     ]
    }
   ],
   "source": [
    "print(\"1-d array:\", x1)\n",
    "print(\"Second element of the first array:\", x1[1])\n",
    "print(\"last element of the first array:\", x1[-1])\n",
    "print(\"first element of the first array:\", x1[0])"
   ]
  },
  {
   "cell_type": "code",
   "execution_count": 15,
   "metadata": {},
   "outputs": [
    {
     "name": "stdout",
     "output_type": "stream",
     "text": [
      "2-d array: \n",
      " [[3 5 2 4]\n",
      " [7 6 8 8]\n",
      " [1 6 7 7]]\n",
      "first elements in a 2-D array: \n",
      " 3\n",
      "3-d array: \n",
      " [[[8 1 5 9 8]\n",
      "  [9 4 3 0 3]\n",
      "  [5 0 2 3 8]\n",
      "  [1 3 3 3 7]]\n",
      "\n",
      " [[0 1 9 9 0]\n",
      "  [4 7 3 2 7]\n",
      "  [2 0 0 4 5]\n",
      "  [5 6 8 4 1]]\n",
      "\n",
      " [[4 9 8 1 1]\n",
      "  [7 9 9 3 6]\n",
      "  [7 2 0 3 5]\n",
      "  [9 4 4 6 4]]]\n",
      "The first element in a 3-D array: \n",
      " 8\n"
     ]
    }
   ],
   "source": [
    "print(\"2-d array: \\n\", x2)\n",
    "print(\"first elements in a 2-D array: \\n\", x2[0, 0])\n",
    "print(\"3-d array: \\n\", x3)\n",
    "print(\"The first element in a 3-D array: \\n\", x3[0, 0, 0])"
   ]
  },
  {
   "cell_type": "code",
   "execution_count": 16,
   "metadata": {},
   "outputs": [
    {
     "name": "stdout",
     "output_type": "stream",
     "text": [
      "Our array:  [0 1 2 3 4 5 6 7 8 9]\n",
      "The first five elements of the array [0 1 2 3 4]\n",
      "The last five elements of the array [5 6 7 8 9]\n",
      "Elements after index 5: [5 6 7 8 9]\n",
      "Middle sub-array: [4 5 6]\n",
      "Every other element: [0 2 4 6 8]\n",
      "Every other element starting from index 1 [1 3 5 7 9]\n",
      "Elements in reversed order: [9 8 7 6 5 4 3 2 1 0]\n"
     ]
    }
   ],
   "source": [
    "# Create an array\n",
    "x=np.arange(10)\n",
    "print('Our array: ', x)\n",
    "print('The first five elements of the array', x[:5])\n",
    "print('The last five elements of the array', x[-5:])\n",
    "print('Elements after index 5:', x[5:])\n",
    "print('Middle sub-array:', x[4:7])\n",
    "print('Every other element:', x[::2])\n",
    "print('Every other element starting from index 1', x[1::2])\n",
    "print('Elements in reversed order:', x[::-1])"
   ]
  }
 ],
 "metadata": {
  "kernelspec": {
   "display_name": "data_science_intro",
   "language": "python",
   "name": "python3"
  },
  "language_info": {
   "codemirror_mode": {
    "name": "ipython",
    "version": 3
   },
   "file_extension": ".py",
   "mimetype": "text/x-python",
   "name": "python",
   "nbconvert_exporter": "python",
   "pygments_lexer": "ipython3",
   "version": "3.11.3"
  },
  "orig_nbformat": 4
 },
 "nbformat": 4,
 "nbformat_minor": 2
}
