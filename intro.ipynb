{
 "cells": [
  {
   "cell_type": "code",
   "execution_count": 3,
   "metadata": {},
   "outputs": [],
   "source": [
    "import numpy as np"
   ]
  },
  {
   "cell_type": "code",
   "execution_count": 4,
   "metadata": {},
   "outputs": [
    {
     "name": "stdout",
     "output_type": "stream",
     "text": [
      "[9.16666667 6.         6.42857143]\n"
     ]
    }
   ],
   "source": [
    "distance = [55,60,45]\n",
    "speed=[6, 10, 7]\n",
    "dist=np.array(distance)\n",
    "spd=np.array(speed)\n",
    "time = dist/spd\n",
    "print(time)"
   ]
  },
  {
   "cell_type": "code",
   "execution_count": 7,
   "metadata": {},
   "outputs": [
    {
     "name": "stdout",
     "output_type": "stream",
     "text": [
      "data type of array:  float64\n",
      "number of dimensions:  1\n",
      "size of each dimension:  (3,)\n",
      "total size of the array:  3\n"
     ]
    }
   ],
   "source": [
    "# data type\n",
    "print(\"data type of array: \", time.dtype)\n",
    "\n",
    "# number of dimensions\n",
    "print(\"number of dimensions: \", time.ndim)\n",
    "\n",
    "#Size of each dimension\n",
    "print(\"size of each dimension: \", time.shape)\n",
    "\n",
    "#Total size of the array\n",
    "print(\"total size of the array: \", time.size)"
   ]
  },
  {
   "cell_type": "code",
   "execution_count": 10,
   "metadata": {},
   "outputs": [
    {
     "name": "stdout",
     "output_type": "stream",
     "text": [
      "x1 ndim 1\n",
      "x1 shape (6,)\n",
      "x1 size 6\n",
      "x2 ndim 2\n",
      "x2 shape (3, 4)\n",
      "x2 size 12\n",
      "x3 ndim 3\n",
      "x3 shape (3, 4, 5)\n",
      "x3 size 60\n"
     ]
    }
   ],
   "source": [
    "# Creating arrays with random values\n",
    "np.random.seed(0) # set seed for reproducibility\n",
    "\n",
    "x1 = np.random.randint(10, size=6) #A one dimensional array\n",
    "x2 = np.random.randint(10, size=(3, 4)) #A Tow dimensional array\n",
    "x3 = np.random.randint(10, size=(3,4,5)) #A three dimensional array\n",
    "\n",
    "print('x1 ndim', x1.ndim)\n",
    "print('x1 shape', x1.shape)\n",
    "print('x1 size', x1.size)\n",
    "\n",
    "print('x2 ndim', x2.ndim)\n",
    "print('x2 shape', x2.shape)\n",
    "print('x2 size', x2.size)\n",
    "\n",
    "print('x3 ndim', x3.ndim)\n",
    "print('x3 shape', x3.shape)\n",
    "print('x3 size', x3.size)"
   ]
  },
  {
   "cell_type": "code",
   "execution_count": 12,
   "metadata": {},
   "outputs": [
    {
     "name": "stdout",
     "output_type": "stream",
     "text": [
      "Sequential array with steps of 5: \n",
      " [ 0  5 10 15]\n"
     ]
    }
   ],
   "source": [
    "f = np.arange(0, 20, 5)\n",
    "print(\"Sequential array with steps of 5: \\n\", f)"
   ]
  }
 ],
 "metadata": {
  "kernelspec": {
   "display_name": "data_science_intro",
   "language": "python",
   "name": "python3"
  },
  "language_info": {
   "codemirror_mode": {
    "name": "ipython",
    "version": 3
   },
   "file_extension": ".py",
   "mimetype": "text/x-python",
   "name": "python",
   "nbconvert_exporter": "python",
   "pygments_lexer": "ipython3",
   "version": "3.11.3"
  },
  "orig_nbformat": 4
 },
 "nbformat": 4,
 "nbformat_minor": 2
}
