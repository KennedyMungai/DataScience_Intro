{
 "cells": [
  {
   "cell_type": "code",
   "execution_count": 12,
   "metadata": {},
   "outputs": [
    {
     "name": "stdout",
     "output_type": "stream",
     "text": [
      "SUV\n"
     ]
    }
   ],
   "source": [
    "dict_example = {\n",
    "    'brand': 'Hyundai',\n",
    "    'model': 'Creta',\n",
    "    'type': 'SUV',\n",
    "    'year': '2020'\n",
    "}\n",
    "\n",
    "print(dict_example['type'])"
   ]
  }
 ],
 "metadata": {
  "kernelspec": {
   "display_name": "data_science_intro",
   "language": "python",
   "name": "python3"
  },
  "language_info": {
   "codemirror_mode": {
    "name": "ipython",
    "version": 3
   },
   "file_extension": ".py",
   "mimetype": "text/x-python",
   "name": "python",
   "nbconvert_exporter": "python",
   "pygments_lexer": "ipython3",
   "version": "3.11.3"
  },
  "orig_nbformat": 4
 },
 "nbformat": 4,
 "nbformat_minor": 2
}
