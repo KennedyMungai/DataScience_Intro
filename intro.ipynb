{
 "cells": [
  {
   "cell_type": "code",
   "execution_count": 3,
   "metadata": {},
   "outputs": [],
   "source": [
    "import numpy as np"
   ]
  },
  {
   "cell_type": "code",
   "execution_count": 4,
   "metadata": {},
   "outputs": [
    {
     "name": "stdout",
     "output_type": "stream",
     "text": [
      "[9.16666667 6.         6.42857143]\n"
     ]
    }
   ],
   "source": [
    "distance = [55,60,45]\n",
    "speed=[6, 10, 7]\n",
    "dist=np.array(distance)\n",
    "spd=np.array(speed)\n",
    "time = dist/spd\n",
    "print(time)"
   ]
  },
  {
   "cell_type": "code",
   "execution_count": 7,
   "metadata": {},
   "outputs": [
    {
     "name": "stdout",
     "output_type": "stream",
     "text": [
      "data type of array:  float64\n",
      "number of dimensions:  1\n",
      "size of each dimension:  (3,)\n",
      "total size of the array:  3\n"
     ]
    }
   ],
   "source": [
    "# data type\n",
    "print(\"data type of array: \", time.dtype)\n",
    "\n",
    "# number of dimensions\n",
    "print(\"number of dimensions: \", time.ndim)\n",
    "\n",
    "#Size of each dimension\n",
    "print(\"size of each dimension: \", time.shape)\n",
    "\n",
    "#Total size of the array\n",
    "print(\"total size of the array: \", time.size)"
   ]
  }
 ],
 "metadata": {
  "kernelspec": {
   "display_name": "data_science_intro",
   "language": "python",
   "name": "python3"
  },
  "language_info": {
   "codemirror_mode": {
    "name": "ipython",
    "version": 3
   },
   "file_extension": ".py",
   "mimetype": "text/x-python",
   "name": "python",
   "nbconvert_exporter": "python",
   "pygments_lexer": "ipython3",
   "version": "3.11.3"
  },
  "orig_nbformat": 4
 },
 "nbformat": 4,
 "nbformat_minor": 2
}
