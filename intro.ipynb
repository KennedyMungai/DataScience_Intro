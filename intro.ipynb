{
 "cells": [
  {
   "cell_type": "code",
   "execution_count": 34,
   "metadata": {},
   "outputs": [],
   "source": [
    "import numpy as np"
   ]
  },
  {
   "cell_type": "code",
   "execution_count": 35,
   "metadata": {},
   "outputs": [
    {
     "name": "stdout",
     "output_type": "stream",
     "text": [
      "[9.16666667 6.         6.42857143]\n"
     ]
    }
   ],
   "source": [
    "distance = [55,60,45]\n",
    "speed=[6, 10, 7]\n",
    "dist=np.array(distance)\n",
    "spd=np.array(speed)\n",
    "time = dist/spd\n",
    "print(time)"
   ]
  },
  {
   "cell_type": "code",
   "execution_count": 36,
   "metadata": {},
   "outputs": [
    {
     "name": "stdout",
     "output_type": "stream",
     "text": [
      "data type of array:  float64\n",
      "number of dimensions:  1\n",
      "size of each dimension:  (3,)\n",
      "total size of the array:  3\n"
     ]
    }
   ],
   "source": [
    "# data type\n",
    "print(\"data type of array: \", time.dtype)\n",
    "\n",
    "# number of dimensions\n",
    "print(\"number of dimensions: \", time.ndim)\n",
    "\n",
    "#Size of each dimension\n",
    "print(\"size of each dimension: \", time.shape)\n",
    "\n",
    "#Total size of the array\n",
    "print(\"total size of the array: \", time.size)"
   ]
  },
  {
   "cell_type": "code",
   "execution_count": 37,
   "metadata": {},
   "outputs": [
    {
     "name": "stdout",
     "output_type": "stream",
     "text": [
      "x1 ndim 1\n",
      "x1 shape (6,)\n",
      "x1 size 6\n",
      "x2 ndim 2\n",
      "x2 shape (3, 4)\n",
      "x2 size 12\n",
      "x3 ndim 3\n",
      "x3 shape (3, 4, 5)\n",
      "x3 size 60\n"
     ]
    }
   ],
   "source": [
    "# Creating arrays with random values\n",
    "np.random.seed(0) # set seed for reproducibility\n",
    "\n",
    "x1 = np.random.randint(10, size=6) #A one dimensional array\n",
    "x2 = np.random.randint(10, size=(3, 4)) #A Tow dimensional array\n",
    "x3 = np.random.randint(10, size=(3,4,5)) #A three dimensional array\n",
    "\n",
    "print('x1 ndim', x1.ndim)\n",
    "print('x1 shape', x1.shape)\n",
    "print('x1 size', x1.size)\n",
    "\n",
    "print('x2 ndim', x2.ndim)\n",
    "print('x2 shape', x2.shape)\n",
    "print('x2 size', x2.size)\n",
    "\n",
    "print('x3 ndim', x3.ndim)\n",
    "print('x3 shape', x3.shape)\n",
    "print('x3 size', x3.size)"
   ]
  },
  {
   "cell_type": "code",
   "execution_count": 38,
   "metadata": {},
   "outputs": [
    {
     "name": "stdout",
     "output_type": "stream",
     "text": [
      "Sequential array with steps of 5: \n",
      " [ 0  5 10 15]\n"
     ]
    }
   ],
   "source": [
    "f = np.arange(0, 20, 5)\n",
    "print(\"Sequential array with steps of 5: \\n\", f)"
   ]
  },
  {
   "cell_type": "code",
   "execution_count": 39,
   "metadata": {},
   "outputs": [
    {
     "name": "stdout",
     "output_type": "stream",
     "text": [
      "1-d array: [5 0 3 3 7 9]\n",
      "Second element of the first array: 0\n",
      "last element of the first array: 9\n",
      "first element of the first array: 5\n"
     ]
    }
   ],
   "source": [
    "print(\"1-d array:\", x1)\n",
    "print(\"Second element of the first array:\", x1[1])\n",
    "print(\"last element of the first array:\", x1[-1])\n",
    "print(\"first element of the first array:\", x1[0])"
   ]
  },
  {
   "cell_type": "code",
   "execution_count": 40,
   "metadata": {},
   "outputs": [
    {
     "name": "stdout",
     "output_type": "stream",
     "text": [
      "2-d array: \n",
      " [[3 5 2 4]\n",
      " [7 6 8 8]\n",
      " [1 6 7 7]]\n",
      "first elements in a 2-D array: \n",
      " 3\n",
      "3-d array: \n",
      " [[[8 1 5 9 8]\n",
      "  [9 4 3 0 3]\n",
      "  [5 0 2 3 8]\n",
      "  [1 3 3 3 7]]\n",
      "\n",
      " [[0 1 9 9 0]\n",
      "  [4 7 3 2 7]\n",
      "  [2 0 0 4 5]\n",
      "  [5 6 8 4 1]]\n",
      "\n",
      " [[4 9 8 1 1]\n",
      "  [7 9 9 3 6]\n",
      "  [7 2 0 3 5]\n",
      "  [9 4 4 6 4]]]\n",
      "The first element in a 3-D array: \n",
      " 8\n"
     ]
    }
   ],
   "source": [
    "print(\"2-d array: \\n\", x2)\n",
    "print(\"first elements in a 2-D array: \\n\", x2[0, 0])\n",
    "print(\"3-d array: \\n\", x3)\n",
    "print(\"The first element in a 3-D array: \\n\", x3[0, 0, 0])"
   ]
  },
  {
   "cell_type": "code",
   "execution_count": 41,
   "metadata": {},
   "outputs": [
    {
     "name": "stdout",
     "output_type": "stream",
     "text": [
      "Our array:  [0 1 2 3 4 5 6 7 8 9]\n",
      "The first five elements of the array [0 1 2 3 4]\n",
      "The last five elements of the array [5 6 7 8 9]\n",
      "Elements after index 5: [5 6 7 8 9]\n",
      "Middle sub-array: [4 5 6]\n",
      "Every other element: [0 2 4 6 8]\n",
      "Every other element starting from index 1 [1 3 5 7 9]\n",
      "Elements in reversed order: [9 8 7 6 5 4 3 2 1 0]\n"
     ]
    }
   ],
   "source": [
    "# Create an array\n",
    "x=np.arange(10)\n",
    "print('Our array: ', x)\n",
    "print('The first five elements of the array', x[:5])\n",
    "print('The last five elements of the array', x[-5:])\n",
    "print('Elements after index 5:', x[5:])\n",
    "print('Middle sub-array:', x[4:7])\n",
    "print('Every other element:', x[::2])\n",
    "print('Every other element starting from index 1', x[1::2])\n",
    "print('Elements in reversed order:', x[::-1])"
   ]
  },
  {
   "cell_type": "code",
   "execution_count": 42,
   "metadata": {},
   "outputs": [
    {
     "data": {
      "text/plain": [
       "array([1, 2, 3, 3, 2, 1])"
      ]
     },
     "execution_count": 42,
     "metadata": {},
     "output_type": "execute_result"
    }
   ],
   "source": [
    "# Creating two sample arrays\n",
    "x = np.array([1, 2, 3])\n",
    "y = np.array([3, 2, 1])\n",
    "\n",
    "# Combining both arrays using concatenate\n",
    "np.concatenate([x, y])"
   ]
  },
  {
   "cell_type": "code",
   "execution_count": 43,
   "metadata": {},
   "outputs": [
    {
     "data": {
      "text/plain": [
       "array([[ 1,  2,  3, 99],\n",
       "       [ 4,  5,  6, 99]])"
      ]
     },
     "execution_count": 43,
     "metadata": {},
     "output_type": "execute_result"
    }
   ],
   "source": [
    "# Creating a sample array\n",
    "x = np.array([1, 2, 3])\n",
    "\n",
    "grid = np.array([[1, 2, 3], [4, 5, 6]])\n",
    "\n",
    "# np.vstack([x, grid])\n",
    "\n",
    "y = np.array([[99], [99]])\n",
    "\n",
    "np.hstack([grid, y])"
   ]
  },
  {
   "cell_type": "code",
   "execution_count": 44,
   "metadata": {},
   "outputs": [],
   "source": [
    "import pandas as pd"
   ]
  },
  {
   "cell_type": "code",
   "execution_count": 45,
   "metadata": {},
   "outputs": [
    {
     "name": "stdout",
     "output_type": "stream",
     "text": [
      "An empty series example:  Series([], dtype: object)\n"
     ]
    }
   ],
   "source": [
    "# Creating an empty series\n",
    "x = pd.Series()\n",
    "print(\"An empty series example: \", x)"
   ]
  },
  {
   "cell_type": "code",
   "execution_count": 46,
   "metadata": {},
   "outputs": [
    {
     "name": "stdout",
     "output_type": "stream",
     "text": [
      "0    1\n",
      "1    2\n",
      "2    3\n",
      "3    4\n",
      "4    5\n",
      "dtype: int64\n"
     ]
    }
   ],
   "source": [
    "# Series example\n",
    "import pandas as pd\n",
    "series1 = pd.Series([1, 2, 3, 4, 5])\n",
    "print(series1)"
   ]
  },
  {
   "cell_type": "code",
   "execution_count": 47,
   "metadata": {},
   "outputs": [
    {
     "name": "stdout",
     "output_type": "stream",
     "text": [
      "0     10\n",
      "1     20\n",
      "2     30\n",
      "3     40\n",
      "4     50\n",
      "5     60\n",
      "6     70\n",
      "7     80\n",
      "8     90\n",
      "9    100\n",
      "dtype: int64\n"
     ]
    }
   ],
   "source": [
    "series2 = pd.Series([10, 20, 30, 40, 50, 60, 70, 80, 90, 100])\n",
    "print(series2)"
   ]
  },
  {
   "cell_type": "code",
   "execution_count": 48,
   "metadata": {},
   "outputs": [
    {
     "name": "stdout",
     "output_type": "stream",
     "text": [
      "a    10\n",
      "b    20\n",
      "c    30\n",
      "d    50\n",
      "dtype: int64\n"
     ]
    }
   ],
   "source": [
    "# Reindexing the default index column\n",
    "series3 = pd.Series([10, 20, 30, 50], index=['a', 'b', 'c', 'd'])\n",
    "print(series3)"
   ]
  },
  {
   "cell_type": "code",
   "execution_count": 49,
   "metadata": {},
   "outputs": [
    {
     "data": {
      "text/plain": [
       "50"
      ]
     },
     "execution_count": 49,
     "metadata": {},
     "output_type": "execute_result"
    }
   ],
   "source": [
    "series3['d']"
   ]
  },
  {
   "cell_type": "code",
   "execution_count": 50,
   "metadata": {},
   "outputs": [
    {
     "name": "stdout",
     "output_type": "stream",
     "text": [
      "Adding 5 to a series: \n",
      " a    15\n",
      "b    25\n",
      "c    35\n",
      "d    55\n",
      "dtype: int64\n",
      "Filtering series with greater than 30 \n",
      " d    50\n",
      "dtype: int64\n",
      "Square root of a series elements: \n",
      " a    3.162278\n",
      "b    4.472136\n",
      "c    5.477226\n",
      "d    7.071068\n",
      "dtype: float64\n"
     ]
    }
   ],
   "source": [
    "# Data manipulation in a series\n",
    "print('Adding 5 to a series: \\n', series3 + 5)\n",
    "print('Filtering series with greater than 30 \\n', series3[series3 > 30])\n",
    "print('Square root of a series elements: \\n', np.sqrt(series3))"
   ]
  },
  {
   "cell_type": "code",
   "execution_count": 51,
   "metadata": {},
   "outputs": [
    {
     "name": "stdout",
     "output_type": "stream",
     "text": [
      "Dictionary example: \n",
      " {'abc': 1, 'def': 2, 'ghi': 3}\n"
     ]
    },
    {
     "data": {
      "text/plain": [
       "abc    1\n",
       "def    2\n",
       "ghi    3\n",
       "dtype: int64"
      ]
     },
     "execution_count": 51,
     "metadata": {},
     "output_type": "execute_result"
    }
   ],
   "source": [
    "# Converting a dictionary to a series\n",
    "data = {'abc': 1, 'def': 2, 'ghi': 3}\n",
    "print('Dictionary example: \\n', data)\n",
    "\n",
    "pd.Series(data)"
   ]
  },
  {
   "cell_type": "code",
   "execution_count": 52,
   "metadata": {},
   "outputs": [
    {
     "name": "stdout",
     "output_type": "stream",
     "text": [
      "Data Frame example: \n",
      " Empty DataFrame\n",
      "Columns: []\n",
      "Index: []\n"
     ]
    }
   ],
   "source": [
    "# Creating an empty dataframe\n",
    "df = pd.DataFrame()\n",
    "print('Data Frame example: \\n', df)"
   ]
  }
 ],
 "metadata": {
  "kernelspec": {
   "display_name": "data_science_intro",
   "language": "python",
   "name": "python3"
  },
  "language_info": {
   "codemirror_mode": {
    "name": "ipython",
    "version": 3
   },
   "file_extension": ".py",
   "mimetype": "text/x-python",
   "name": "python",
   "nbconvert_exporter": "python",
   "pygments_lexer": "ipython3",
   "version": "3.11.3"
  },
  "orig_nbformat": 4
 },
 "nbformat": 4,
 "nbformat_minor": 2
}
